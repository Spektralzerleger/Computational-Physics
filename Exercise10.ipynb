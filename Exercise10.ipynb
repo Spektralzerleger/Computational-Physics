{
 "cells": [
  {
   "cell_type": "markdown",
   "metadata": {},
   "source": [
    "# Homework 10: Random Numbers (20 points)\n",
    "\n",
    "Group Members: Julius Franke (el442, juliusttf@gmail.com), Erik Meister (kd400, erik.meister@me.com), Eugen Dizer (qo452, eugen9898@web.de)\n",
    "\n",
    "Due on Friday, 03.07.2020."
   ]
  },
  {
   "cell_type": "code",
   "execution_count": 1,
   "metadata": {
    "collapsed": false
   },
   "outputs": [],
   "source": [
    "#Load standard libraries\n",
    "import numpy as np   \n",
    "import matplotlib.pyplot as plt\n",
    "\n",
    "%matplotlib inline"
   ]
  },
  {
   "cell_type": "markdown",
   "metadata": {},
   "source": [
    "Consider a probability distribution function $p(x)$ given in the domain $[0, a\\rangle$ by\n",
    "$$ p(x) = bx .$$\n",
    "Assume that $\\lbrace r_i\\rbrace$ is a random set of numbers, distributed uniformly between 0 and 1."
   ]
  },
  {
   "cell_type": "markdown",
   "metadata": {},
   "source": [
    "### 1. Give the proper value of $b$ as a function of a such that the probability distribution function is properly normalized."
   ]
  },
  {
   "cell_type": "markdown",
   "metadata": {},
   "source": [
    "As one can see easily from the condition\n",
    "$$ \\int_0^a bx \\ dx = 1 $$\n",
    "the proper value for $b$ is $b = \\frac{2}{a^2}$."
   ]
  },
  {
   "cell_type": "markdown",
   "metadata": {},
   "source": [
    "### 2. Use the rejection method to make a set $\\lbrace x_i \\rbrace$ that obeys the above distribution for $a = 0.5$."
   ]
  },
  {
   "cell_type": "code",
   "execution_count": 23,
   "metadata": {
    "collapsed": false
   },
   "outputs": [],
   "source": [
    "def random_number(n):\n",
    "    # Use rejection method with a = 0.5 and p(x) = 8 * x.\n",
    "    random_numbers = []\n",
    "    while len(random_numbers) < n:\n",
    "        # Generate first random number between 0 and 1\n",
    "        r = np.random.rand(1)\n",
    "        x = 0.5 * r\n",
    "        # Generate second random number between 0 and 1\n",
    "        s = np.random.rand(1)\n",
    "        if s < 8 * x:\n",
    "            random_numbers.append(r[0])\n",
    "\n",
    "    return random_numbers"
   ]
  },
  {
   "cell_type": "markdown",
   "metadata": {},
   "source": [
    "### 3. Make a histogram of the resulting numbers and check that the histogram indeed follows the probability density. Experiment with the size of the set (the number of random numbers drawn), to find out how large you have to make it to get (by eye) a reasonable fit."
   ]
  },
  {
   "cell_type": "code",
   "execution_count": 22,
   "metadata": {
    "collapsed": false
   },
   "outputs": [
    {
     "data": {
      "image/png": "[encoded data removed]",
      "text/plain": [
       "<Figure size 432x288 with 1 Axes>"
      ]
     },
     "metadata": {},
     "output_type": "display_data"
    }
   ],
   "source": [
    "data = random_number(50000) #random_number(5000)\n",
    "\n",
    "plt.hist(data, density=True, bins=50, range=(0,0.5))\n",
    "plt.plot(np.linspace(0, 0.5, 5), 8 * np.linspace(0, 0.5, 5))\n",
    "plt.show()"
   ]
  },
  {
   "cell_type": "markdown",
   "metadata": {},
   "source": [
    "Somehow it doesn't work... With the function $2x$ it would be better."
   ]
  },
  {
   "cell_type": "markdown",
   "metadata": {},
   "source": [
    "### 4. Compute the number π using a rejection method with the function $f(x) = \\sqrt(1 - x^2)$, for $0 \\leq x \\leq 1$. Hint: It is enough to use only one quadrant $x, f(x) > 0$. Vary the number of RNs widely (orders of magnitude) and plot the accuracy of the result as a function of the number of RNs. Use logarithmic variables for the plot."
   ]
  },
  {
   "cell_type": "code",
   "execution_count": 6,
   "metadata": {
    "collapsed": true
   },
   "outputs": [],
   "source": [
    "def random_number_pi(n):\n",
    "    # Use rejection method with a = 0.5 and p(x) = 8 * x.\n",
    "    N_total = 0\n",
    "    N_rejected = 0\n",
    "    random_numbers = []\n",
    "    while len(random_numbers) < n:\n",
    "        # Generate first random number between 0 and 1\n",
    "        r = np.random.rand(1)\n",
    "        # Generate second random number between 0 and 1\n",
    "        s = np.random.rand(1)\n",
    "        if s < np.sqrt(1-r**2):\n",
    "            random_numbers.append(r[0])\n",
    "            N_total += 1\n",
    "        else:\n",
    "            N_rejected += 1\n",
    "            N_total += 1\n",
    "\n",
    "    return 1 - N_rejected / N_total # this should return pi/4"
   ]
  },
  {
   "cell_type": "code",
   "execution_count": 8,
   "metadata": {
    "collapsed": false
   },
   "outputs": [
    {
     "name": "stdout",
     "output_type": "stream",
     "text": [
      "3.139397078791018\n"
     ]
    }
   ],
   "source": [
    "print(4 * random_number_pi(600000))"
   ]
  },
  {
   "cell_type": "code",
   "execution_count": 14,
   "metadata": {
    "collapsed": false
   },
   "outputs": [
    {
     "data": {
      "image/png": "[encoded data removed]",
      "text/plain": [
       "<Figure size 432x288 with 1 Axes>"
      ]
     },
     "metadata": {},
     "output_type": "display_data"
    }
   ],
   "source": [
    "n = np.logspace(1, 6, 10)\n",
    "results = []\n",
    "for i in n:\n",
    "    results.append(random_number_pi(i))\n",
    "    \n",
    "results = np.array(results)\n",
    "\n",
    "plt.plot(n, np.abs(np.pi/4 - results))\n",
    "plt.xscale(\"log\")\n",
    "plt.show()"
   ]
  },
  {
   "cell_type": "code",
   "execution_count": null,
   "metadata": {
    "collapsed": true
   },
   "outputs": [],
   "source": []
  }
 ],
 "metadata": {
  "kernelspec": {
   "display_name": "Python 3",
   "language": "python",
   "name": "python3"
  },
  "language_info": {
   "codemirror_mode": {
    "name": "ipython",
    "version": 3
   },
   "file_extension": ".py",
   "mimetype": "text/x-python",
   "name": "python",
   "nbconvert_exporter": "python",
   "pygments_lexer": "ipython3",
   "version": "3.6.0"
  }
 },
 "nbformat": 4,
 "nbformat_minor": 4
}
